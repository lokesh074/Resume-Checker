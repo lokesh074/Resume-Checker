{
 "cells": [
  {
   "cell_type": "code",
   "execution_count": null,
   "id": "363f9f3e",
   "metadata": {},
   "outputs": [],
   "source": [
    "import docx2txt\n",
    "import nltk\n",
    "from sklearn.feature_extraction.text import CountVectorizer"
   ]
  },
  {
   "cell_type": "code",
   "execution_count": null,
   "id": "1cdfbc4c",
   "metadata": {},
   "outputs": [],
   "source": [
    "resume = docx2txt.process('LokeshSharma_Resume.docx')\n",
    "job = docx2txt.process('Google Software Engineer Job Description.docx')"
   ]
  },
  {
   "cell_type": "code",
   "execution_count": null,
   "id": "c3e372cd",
   "metadata": {},
   "outputs": [],
   "source": [
    "print(resume)"
   ]
  },
  {
   "cell_type": "code",
   "execution_count": null,
   "id": "551290cc",
   "metadata": {},
   "outputs": [],
   "source": [
    "print(job)"
   ]
  },
  {
   "cell_type": "code",
   "execution_count": null,
   "id": "95f235df",
   "metadata": {},
   "outputs": [],
   "source": [
    "content = [job,resume]"
   ]
  },
  {
   "cell_type": "code",
   "execution_count": null,
   "id": "dded5a17",
   "metadata": {},
   "outputs": [],
   "source": [
    "cv = CountVectorizer()\n",
    "matrix = cv.fit_transform(content)"
   ]
  },
  {
   "cell_type": "code",
   "execution_count": null,
   "id": "4d6b4430",
   "metadata": {},
   "outputs": [],
   "source": [
    "matrix"
   ]
  },
  {
   "cell_type": "code",
   "execution_count": null,
   "id": "53aca9cb",
   "metadata": {},
   "outputs": [],
   "source": [
    "from sklearn.metrics.pairwise import cosine_similarity"
   ]
  },
  {
   "cell_type": "code",
   "execution_count": null,
   "id": "e0143ff4",
   "metadata": {},
   "outputs": [],
   "source": [
    "similarity_matrix = cosine_similarity(matrix)"
   ]
  },
  {
   "cell_type": "code",
   "execution_count": null,
   "id": "73e1380a",
   "metadata": {},
   "outputs": [],
   "source": [
    "print(similarity_matrix)"
   ]
  },
  {
   "cell_type": "code",
   "execution_count": null,
   "id": "8f41135c",
   "metadata": {},
   "outputs": [],
   "source": [
    "print(\"Resume matched by : \"+ str(similarity_matrix[1][0]*100)+\" %\")"
   ]
  },
  {
   "cell_type": "code",
   "execution_count": null,
   "id": "568bd143",
   "metadata": {},
   "outputs": [],
   "source": [
    "import pickle"
   ]
  },
  {
   "cell_type": "code",
   "execution_count": null,
   "id": "5c3e3705",
   "metadata": {},
   "outputs": [],
   "source": [
    "# Save the trained model as a pickle string.\n",
    "saved_model = pickle.dumps(similarity_matrix)"
   ]
  },
  {
   "cell_type": "code",
   "execution_count": null,
   "id": "01b21e86",
   "metadata": {},
   "outputs": [],
   "source": []
  },
  {
   "cell_type": "code",
   "execution_count": null,
   "id": "bff7f39f",
   "metadata": {},
   "outputs": [],
   "source": []
  },
  {
   "cell_type": "code",
   "execution_count": null,
   "id": "e691a07d",
   "metadata": {},
   "outputs": [],
   "source": [
    "knn_from_pickle = pickle.loads(saved_model)"
   ]
  },
  {
   "cell_type": "code",
   "execution_count": null,
   "id": "4a6903ac",
   "metadata": {},
   "outputs": [],
   "source": [
    "similarity_matrix = cosine_similarity(matrix)\n",
    "print(similarity_matrix)"
   ]
  }
 ],
 "metadata": {
  "kernelspec": {
   "display_name": "Python 3 (ipykernel)",
   "language": "python",
   "name": "python3"
  },
  "language_info": {
   "codemirror_mode": {
    "name": "ipython",
    "version": 3
   },
   "file_extension": ".py",
   "mimetype": "text/x-python",
   "name": "python",
   "nbconvert_exporter": "python",
   "pygments_lexer": "ipython3",
   "version": "3.9.12"
  }
 },
 "nbformat": 4,
 "nbformat_minor": 5
}
